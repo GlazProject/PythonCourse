{
 "cells": [
  {
   "cell_type": "markdown",
   "metadata": {
    "pycharm": {
     "name": "#%% md\n"
    }
   },
   "source": [
    "# Домашнее задание 0."
   ]
  },
  {
   "cell_type": "markdown",
   "metadata": {
    "pycharm": {
     "name": "#%% md\n"
    }
   },
   "source": [
    "В этой домашке запрещается использовать циклы. Все задачи должны быть выполнены с помощью внутренних функций numpy и pandas."
   ]
  },
  {
   "cell_type": "code",
   "execution_count": 2,
   "metadata": {
    "pycharm": {
     "name": "#%%\n"
    }
   },
   "outputs": [],
   "source": [
    "import numpy as np\n",
    "import pandas as pd\n",
    "from numpy.testing import assert_equal, assert_array_equal\n",
    "from pandas.testing import assert_frame_equal"
   ]
  },
  {
   "cell_type": "markdown",
   "metadata": {
    "pycharm": {
     "name": "#%% md\n"
    }
   },
   "source": [
    "# [OK] Ближайший элемент"
   ]
  },
  {
   "cell_type": "markdown",
   "metadata": {
    "pycharm": {
     "name": "#%% md\n"
    }
   },
   "source": [
    "Реализуйте функцию, принимающую на вход непустой тензор (может быть многомерным) $X$ и некоторое число $a$ и возвращающую ближайший к числу элемент тензора. Если ближайших несколько - выведите минимальный из ближайших. (Вернуть нужно само число, а не индекс числа!)\n",
    "\n",
    "### Sample\n",
    "#### Input:\n",
    "```python\n",
    "X = np.array([[ 1,  2, 13],\n",
    "              [15,  6,  8],\n",
    "              [ 7, 18,  9]])\n",
    "a = 7.2\n",
    "```\n",
    "#### Output:\n",
    "```python\n",
    "7\n",
    "```"
   ]
  },
  {
   "cell_type": "markdown",
   "metadata": {
    "pycharm": {
     "name": "#%% md\n"
    }
   },
   "source": [
    "# TASK"
   ]
  },
  {
   "cell_type": "code",
   "execution_count": 23,
   "metadata": {
    "pycharm": {
     "name": "#%%\n"
    }
   },
   "outputs": [],
   "source": [
    "def nearest_value(X: np.ndarray, a: float) -> np.float64:\n",
    "    vector = np.sort(np.ravel(X))-a\n",
    "    nearest_negative = np.where(vector < 0, vector, -np.inf).max()\n",
    "    nearest_positive = np.where(vector > 0, vector, np.inf).min()\n",
    "    if abs(nearest_negative) <= nearest_positive:\n",
    "        return nearest_negative + a \n",
    "    else:\n",
    "        return nearest_positive + a"
   ]
  },
  {
   "cell_type": "code",
   "execution_count": 24,
   "metadata": {
    "pycharm": {
     "name": "#%%\n"
    }
   },
   "outputs": [],
   "source": [
    "######################################################\n",
    "assert_equal(\n",
    "    nearest_value(np.array([ 1,  2, 13]), 10),\n",
    "    13)\n",
    "######################################################\n",
    "assert_equal(\n",
    "    nearest_value(np.array([ -1,  0]), -0.5),\n",
    "    -1)\n",
    "######################################################\n",
    "assert_equal(\n",
    "    nearest_value(np.array([[[ 1], [2],[3]],[[4],[5],[6]]]), 4.5),\n",
    "    4)\n",
    "######################################################\n",
    "assert_equal(\n",
    "    nearest_value(np.array([[ 1,  2, 13],\n",
    "                            [15,  6,  8],\n",
    "                            [ 7, 18,  9]]), 7.2),\n",
    "    7)\n",
    "######################################################\n",
    "assert_equal(\n",
    "    nearest_value(np.array([[ -1,  -2],\n",
    "                            [-15,  -6]]), -100),\n",
    "    -15)\n",
    "######################################################\n",
    "assert_equal(\n",
    "    nearest_value(np.array([[ 2,  2],\n",
    "                            [12,  12]]), 7),\n",
    "    2)\n",
    "######################################################\n",
    "assert_equal(\n",
    "    nearest_value(np.array([[ -2,  -2],\n",
    "                            [-12,  -12]]), -7),\n",
    "    -12)\n",
    "######################################################"
   ]
  },
  {
   "cell_type": "markdown",
   "metadata": {
    "pycharm": {
     "name": "#%% md\n"
    }
   },
   "source": [
    "# [OK] Сортировка чисел"
   ]
  },
  {
   "cell_type": "markdown",
   "metadata": {
    "pycharm": {
     "name": "#%% md\n"
    }
   },
   "source": [
    "Дан одномерный массив целых чисел. Необходимо отсортировать в нем только числа, которые делятся на $2$. При этом начальный массив изменять нельзя.\n",
    "\n",
    "### Sample\n",
    "#### Input:\n",
    "```python\n",
    "A = np.array([43, 66, 34, 55, 78, 105, 2])\n",
    "```\n",
    "#### Output:\n",
    "```python\n",
    "array([ 43,   2,  34,  55,  66, 105,  78])\n",
    "```\n"
   ]
  },
  {
   "cell_type": "markdown",
   "metadata": {
    "pycharm": {
     "name": "#%% md\n"
    }
   },
   "source": [
    "# TASK"
   ]
  },
  {
   "cell_type": "code",
   "execution_count": 42,
   "metadata": {
    "pycharm": {
     "name": "#%%\n"
    }
   },
   "outputs": [],
   "source": [
    "import numpy as np\n",
    "\n",
    "def sort_evens(A: np.ndarray) -> np.ndarray:\n",
    "    a = np.copy(A)\n",
    "    ind = np.where(a%2==0)\n",
    "    a[ind] = np.sort(a[ind])\n",
    "    return a"
   ]
  },
  {
   "cell_type": "code",
   "execution_count": 41,
   "metadata": {
    "pycharm": {
     "name": "#%%\n"
    }
   },
   "outputs": [],
   "source": [
    "######################################################\n",
    "assert_array_equal(sort_evens(np.array([])), np.array([]))\n",
    "######################################################\n",
    "assert_array_equal(sort_evens(np.array([2, 0])), np.array([0, 2]))\n",
    "######################################################\n",
    "assert_array_equal(sort_evens(np.array([9, 3, 1, 5, 7])), np.array([9, 3, 1, 5, 7]))\n",
    "######################################################\n",
    "assert_array_equal(sort_evens(np.array([8, 12, 4, 10, 6, 2])), np.array([2, 4, 6, 8, 10, 12]))\n",
    "######################################################"
   ]
  },
  {
   "cell_type": "markdown",
   "metadata": {
    "pycharm": {
     "name": "#%% md\n"
    }
   },
   "source": [
    "# [OK] Страшные маски"
   ]
  },
  {
   "cell_type": "markdown",
   "metadata": {
    "pycharm": {
     "name": "#%% md\n"
    }
   },
   "source": [
    "Даны трехмерный тензор размерности $X(n, k, k)$, состоящий из $0$ или $1$, или $n$ картинок $k \\times k$. Нужно применить к нему указанную маску размерности $(k, k)$: В случае, если биты в маске и картинке совпадают, то результирующий бит должен быть равен $0$, иначе $1$.\n",
    "\n",
    "### Sample\n",
    "#### Input:\n",
    "```python\n",
    "X = np.array([\n",
    "              [[ 1, 0, 1],\n",
    "               [ 1, 1, 1],\n",
    "               [ 0, 0, 1]],\n",
    "             \n",
    "              [[ 1, 1, 1],\n",
    "               [ 1, 1, 1],\n",
    "               [ 1, 1, 1]]\n",
    "            ])\n",
    "mask = np.array([[1, 1, 0],\n",
    "                 [1, 1, 0],\n",
    "                 [1, 1, 0]])\n",
    "```\n",
    "#### Output:\n",
    "```python\n",
    "array([[[0, 1, 1],\n",
    "        [0, 0, 1],\n",
    "        [1, 1, 1]],\n",
    "\n",
    "       [[0, 0, 1],\n",
    "        [0, 0, 1],\n",
    "        [0, 0, 1]]])\n",
    "```\n"
   ]
  },
  {
   "cell_type": "markdown",
   "metadata": {
    "pycharm": {
     "name": "#%% md\n"
    }
   },
   "source": [
    "# TASK"
   ]
  },
  {
   "cell_type": "code",
   "execution_count": 46,
   "metadata": {
    "pycharm": {
     "name": "#%%\n"
    }
   },
   "outputs": [],
   "source": [
    "import numpy as np\n",
    "\n",
    "def tensor_mask(X: np.ndarray, mask: np.ndarray) -> np.ndarray:\n",
    "    return X ^ mask"
   ]
  },
  {
   "cell_type": "code",
   "execution_count": 47,
   "metadata": {
    "pycharm": {
     "name": "#%%\n"
    }
   },
   "outputs": [],
   "source": [
    "######################################################\n",
    "X = np.zeros(9, dtype=int).reshape((1,3,3))\n",
    "mask = np.zeros(9, dtype=int).reshape((3,3))\n",
    "assert_array_equal(tensor_mask(X, mask), np.zeros(9, dtype=int).reshape((1,3,3)))\n",
    "######################################################\n",
    "X = np.zeros(9*3, dtype=int).reshape((3,3,3))\n",
    "mask = np.ones(9, dtype=int).reshape((3,3))\n",
    "assert_array_equal(tensor_mask(X, mask), np.ones(9*3, dtype=int).reshape((3,3,3)))\n",
    "######################################################\n",
    "X = np.array([[[ 1, 0, 1],\n",
    "               [ 1, 1, 1],\n",
    "               [ 0, 0, 1]]])\n",
    "mask = np.array([[1, 1, 0],\n",
    "                 [1, 1, 0],\n",
    "                 [1, 1, 0]])\n",
    "assert_array_equal(tensor_mask(X, mask), \n",
    "                   np.array([[[0, 1, 1],\n",
    "                             [0, 0, 1],\n",
    "                             [1, 1, 1]]]))\n",
    "######################################################"
   ]
  },
  {
   "cell_type": "markdown",
   "metadata": {
    "pycharm": {
     "name": "#%% md\n"
    }
   },
   "source": [
    "# [OK] Сумма цифр в массиве"
   ]
  },
  {
   "cell_type": "markdown",
   "metadata": {
    "pycharm": {
     "name": "#%% md\n"
    }
   },
   "source": [
    "На вход подается `np.ndarray` c натуральными числами. Надо получить массив сумм цифр в этих числах.\n",
    "\n",
    "### Sample\n",
    "#### Input:\n",
    "```python\n",
    "a = np.array([1241, 354, 121])\n",
    "```\n",
    "#### Output:\n",
    "```python\n",
    "array([ 8, 12, 4])\n",
    "```\n"
   ]
  },
  {
   "cell_type": "markdown",
   "metadata": {
    "pycharm": {
     "name": "#%% md\n"
    }
   },
   "source": [
    "# TASK"
   ]
  },
  {
   "cell_type": "code",
   "execution_count": 79,
   "metadata": {
    "pycharm": {
     "name": "#%%\n"
    }
   },
   "outputs": [],
   "source": [
    "import numpy as np\n",
    "\n",
    "def num_sum(a: np.ndarray) -> np.ndarray:\n",
    "    c = a//10 ** np.arange(len(str(np.max(a))))[:, None] % 10\n",
    "    return np.sum(c, axis=0)"
   ]
  },
  {
   "cell_type": "code",
   "execution_count": 80,
   "metadata": {
    "pycharm": {
     "name": "#%%\n"
    }
   },
   "outputs": [],
   "source": [
    "######################################################\n",
    "assert_array_equal(num_sum(np.array([82])), np.array([10]))\n",
    "######################################################\n",
    "assert_array_equal(num_sum(np.array([1241, 354, 121])), np.array([ 8, 12, 4]))\n",
    "######################################################\n",
    "assert_array_equal(num_sum(np.array([1, 22, 333, 4444, 55555])), np.array([1, 4, 9, 16, 25]))\n",
    "######################################################                  "
   ]
  },
  {
   "cell_type": "markdown",
   "metadata": {
    "pycharm": {
     "name": "#%% md\n"
    }
   },
   "source": [
    "# [OK] Чистка NaN-ов"
   ]
  },
  {
   "cell_type": "markdown",
   "metadata": {
    "pycharm": {
     "name": "#%% md\n"
    }
   },
   "source": [
    "Одна из важных проблем данных - пустые значения. В *numpy* и *pandas* они обычно объявляются специальным типом ```np.nan```. В реальных задачах нам часто нужно что-то сделать с этими значениями. Например заменить на 0, среднее или медиану.\n",
    "\n",
    "Реализуйте функцию, которая во входной вещественной матрице ```X``` находит все значения ```nan``` и заменяет их на **медиану** остальных элементов столбца. Если все элементы столбца матрицы ```nan```, то заполняем столбец нулями.\n",
    "\n",
    "### Sample\n",
    "#### Input:\n",
    "```python\n",
    "X = np.array([[np.nan,      4,  np.nan],\n",
    "              [np.nan, np.nan,       8],\n",
    "              [np.nan,      5,  np.nan]])\n",
    "```\n",
    "#### Output:\n",
    "```python\n",
    "array([[0. , 4. , 8. ],\n",
    "       [0. , 4.5, 8. ],\n",
    "       [0. , 5. , 8. ]])\n",
    "```\n"
   ]
  },
  {
   "cell_type": "markdown",
   "metadata": {
    "pycharm": {
     "name": "#%% md\n"
    }
   },
   "source": [
    "# TASK"
   ]
  },
  {
   "cell_type": "code",
   "execution_count": 25,
   "metadata": {
    "pycharm": {
     "name": "#%%\n"
    }
   },
   "outputs": [],
   "source": [
    "from pandas.io.parsers.base_parser import isna\n",
    "import numpy as np\n",
    "\n",
    "def replace_nans(X:np.ndarray) -> np.ndarray:    \n",
    "    return np.where(np.isnan(X), np.ma.array(X, mask=np.isnan(X)).mean(axis=0), X)"
   ]
  },
  {
   "cell_type": "code",
   "execution_count": 27,
   "metadata": {
    "pycharm": {
     "name": "#%%\n"
    }
   },
   "outputs": [],
   "source": [
    "from numpy.testing import assert_array_equal, assert_array_almost_equal\n",
    "######################################################\n",
    "assert_array_equal(replace_nans(\n",
    "    np.array([[np.nan], [np.nan],  [np.nan]])),\n",
    "    np.array([[0. ],[ 0. ],[ 0. ]])\n",
    ")\n",
    "######################################################\n",
    "assert_array_equal(replace_nans(\n",
    "    np.array([[0, 42,  42]])),\n",
    "    np.array([[0, 42 , 42]])\n",
    ")\n",
    "######################################################\n",
    "assert_array_equal(replace_nans(\n",
    "    np.array([[np.nan], [1], [np.nan]])),\n",
    "    np.array([[1.] ,[ 1.] ,[ 1. ]])\n",
    ")\n",
    "######################################################\n",
    "assert_array_equal(replace_nans(\n",
    "    np.array([[4], [1],  [np.nan]])),\n",
    "    np.array([[4 ], [1] ,[ 2.5]])\n",
    ")\n",
    "######################################################\n",
    "assert_array_equal(replace_nans(\n",
    "    np.array([[np.nan, np.nan,  np.nan],\n",
    "              [     4, np.nan,       5],\n",
    "              [np.nan,      8,  np.nan]]).T),\n",
    "    np.array([[0. , 0. , 0. ],\n",
    "              [4. , 4.5, 5. ],\n",
    "              [8. , 8. , 8. ]]).T\n",
    ")\n",
    "######################################################"
   ]
  },
  {
   "cell_type": "markdown",
   "metadata": {
    "pycharm": {
     "name": "#%% md\n"
    }
   },
   "source": [
    "# [OK] Бухгалтерия зоопарка"
   ]
  },
  {
   "cell_type": "markdown",
   "metadata": {
    "pycharm": {
     "name": "#%% md\n"
    }
   },
   "source": [
    "Вам на вход подается словарь, где ключ - это тип животного, а значение - словарь с признаками этого животного, где ключ - тип признака, а значение - значение признака (Типичный json проще говоря). Наименования признаков животного - всегда строки. Значения признаков - любой из типов pandas.\n",
    "\n",
    "Вам следует создать табличку, где по строчкам будут идти животные, а по колонкам - их признаки, которая удовлетворяет следующим условиям:\n",
    "\n",
    "* Тип животного нужно выделить в отдельную колонку `Type`\n",
    "* Строки отсортированы по типу животного в алфавитном порядке\n",
    "* Колонки отсортированы в алфавитном порядке, кроме колонки `Type` - она первая\n",
    "* Индексы строк - ряд натуральных чисел начиная с 0 без пропусков\n",
    "\n",
    "Имейте в виду, что признаки у двух животных могут не совпадать, значит незаполненные данные нужно заполнить `Nan` значением.\n",
    "\n",
    "Верните на выходе табличку(`DataFrame`), в которой отсутствуют Nan значения. При этом могут отсутствовать некоторые признаки, но животные должны присутствовать **все**. Изначальные типы значений из словаря: `int64`, `float64`, `bool` и.т.д. должны сохраниться и в конечной табличке, а не превратиться в `object`-ы. (От удаляемых признаков этого, очевидно, не требуется).\n",
    "\n",
    "### Sample 1\n",
    "#### Input:\n",
    "```python\n",
    "ZOO = {\n",
    "        'cat':{'color':'black', 'tail_len': 50, 'injured': False}, \n",
    "        'dog':{'age': 6, 'tail_len': 30.5, 'injured': True}\n",
    "      }\n",
    "```\n",
    "#### Output:\n",
    "\n",
    "|  | Type | injured |tail_len |\n",
    "|--|----|--------|-------|\n",
    "|0 | cat |  False | 50.0 |\n",
    "|1 | dog |  True  | 30.5  |\n"
   ]
  },
  {
   "cell_type": "markdown",
   "metadata": {
    "pycharm": {
     "name": "#%% md\n"
    }
   },
   "source": [
    "# TASK"
   ]
  },
  {
   "cell_type": "code",
   "execution_count": 34,
   "metadata": {
    "pycharm": {
     "name": "#%%\n"
    }
   },
   "outputs": [],
   "source": [
    "import numpy as np\n",
    "import pandas as pd\n",
    "\n",
    "def ZOOtable(zoo: dict) -> pd.DataFrame:\n",
    "    df = pd.DataFrame.from_dict(zoo, orient='index').reset_index()\n",
    "    df.rename(columns = {'index':'Type'}, inplace=True)\n",
    "    df.sort_index(axis=1, inplace=True)\n",
    "    df.sort_values(\"Type\", inplace=True)\n",
    "    df.dropna(axis=1,how='any', inplace=True)\n",
    "    return df"
   ]
  },
  {
   "cell_type": "code",
   "execution_count": 35,
   "metadata": {
    "pycharm": {
     "name": "#%%\n"
    }
   },
   "outputs": [],
   "source": [
    "######################################################\n",
    "ZOO = {\n",
    "        'cat': {'color':'black', 'tail_len': 50.0, 'injured': False}, \n",
    "        'dog': {'age': 6, 'tail_len': 30.5, 'injured': True}\n",
    "      }\n",
    "answer = pd.DataFrame(\n",
    "    {\n",
    "     'Type':['cat', 'dog'], \n",
    "     'injured':[False, True], \n",
    "     'tail_len':[50.0, 30.5]\n",
    "    }\n",
    ")\n",
    "df = ZOOtable(ZOO)\n",
    "\n",
    "assert_frame_equal(\n",
    "    df.reset_index(drop=True),\n",
    "    answer\n",
    ")\n",
    "######################################################\n",
    "ZOO = {\n",
    "        'cat': {'color':'black'}, \n",
    "        'dog': {'age': 6}\n",
    "      }\n",
    "answer = pd.DataFrame(\n",
    "    {\n",
    "     'Type':['cat', 'dog']\n",
    "    }\n",
    ")\n",
    "\n",
    "df = ZOOtable(ZOO)\n",
    "\n",
    "assert_frame_equal(\n",
    "    df.reset_index(drop=True),\n",
    "    answer\n",
    ")\n",
    "######################################################"
   ]
  },
  {
   "cell_type": "markdown",
   "metadata": {
    "pycharm": {
     "name": "#%% md\n"
    }
   },
   "source": [
    "# [OK] Простые преобразования"
   ]
  },
  {
   "cell_type": "markdown",
   "metadata": {
    "pycharm": {
     "name": "#%% md\n"
    }
   },
   "source": [
    "На вход подается `DataFrame` из 3-х колонок дата рождения и смерти человека на **русском** языке в формате представленом ниже:\n",
    "\n",
    "|  | Имя             | Дата рождения  | Дата смерти      \n",
    "|--|-----------------|----------------|------------------\n",
    "|0 |Никола Тесла     |10 июля 1856 г. |7 января 1943 г.  \n",
    "|1 |Альберт Эйнштейн |14 марта 1879 г.|18 апреля 1955 г.  \n",
    "\n",
    "Необходимо вернуть исходную таблицу с добавленным в конце столбцом полных лет жизни.\n",
    "\n",
    "\n",
    "|  | Имя             | Дата рождения  | Дата смерти     | Полных лет\n",
    "|--|-----------------|----------------|-----------------|-----------\n",
    "|0 |Никола Тесла     |10 июля 1856 г. |7 января 1943 г. | 86        \n",
    "|1 |Альберт Эйнштейн |14 марта 1879 г.|18 апреля 1955 г.| 76        \n",
    "\n",
    "Формат даты единый, исключений нет, пробелы мужду элементами дат присутствуют, исключений (`Nan`) нету.\n",
    "\n",
    "P.S. Для обработки высокосных годов используйте модуль `dateutil.relativedelta`."
   ]
  },
  {
   "cell_type": "markdown",
   "metadata": {
    "pycharm": {
     "name": "#%% md\n"
    }
   },
   "source": [
    "# TASK"
   ]
  },
  {
   "cell_type": "code",
   "execution_count": 41,
   "metadata": {
    "pycharm": {
     "name": "#%%\n"
    }
   },
   "outputs": [],
   "source": [
    "import numpy as np\n",
    "import pandas as pd\n",
    "import dateutil.relativedelta as relativedelta\n",
    "import datetime\n",
    "\n",
    "rus_months = {\n",
    "    'января': 1,\n",
    "    'февраля' : 2,\n",
    "    'марта' : 3,\n",
    "    'апреля' : 4,\n",
    "    'мая' : 5,\n",
    "    'июня' : 6,\n",
    "    'июля' : 7,\n",
    "    'августа' : 8,\n",
    "    'сентября' : 9,\n",
    "    'октября' : 10,\n",
    "    'ноября' : 11,\n",
    "    'декабря' : 12\n",
    "}\n",
    "\n",
    "def parse_date(s_date: str) -> datetime:\n",
    "    date = s_date.split(' ')\n",
    "    return datetime.date(int(date[2]), rus_months[date[1]], int(date[0]))\n",
    "\n",
    "def count_years(df):\n",
    "    return relativedelta.relativedelta(parse_date(df['Дата смерти']), parse_date(df['Дата рождения'])).years\n",
    "\n",
    "def rus_feature(df: pd.DataFrame) -> pd.DataFrame:\n",
    "    df['Полных лет'] = df.apply(lambda data: count_years(data), axis=1)\n",
    "    return df"
   ]
  },
  {
   "cell_type": "code",
   "execution_count": 42,
   "metadata": {
    "pycharm": {
     "name": "#%%\n"
    }
   },
   "outputs": [],
   "source": [
    "######################################################\n",
    "names = pd.DataFrame({'Имя':['Никола Тесла', 'Альберт Эйнштейн'], \n",
    "                   'Дата рождения':['10 июля 1856 г.','14 марта 1879 г.'],\n",
    "                   'Дата смерти':  ['7 января 1943 г.', '18 апреля 1955 г.']})\n",
    "answer = pd.DataFrame({'Имя':['Никола Тесла', 'Альберт Эйнштейн'], \n",
    "                       'Дата рождения':['10 июля 1856 г.','14 марта 1879 г.'],\n",
    "                       'Дата смерти':  ['7 января 1943 г.', '18 апреля 1955 г.'],\n",
    "                       'Полных лет':[86, 76]})\n",
    "assert_frame_equal(\n",
    "    rus_feature(names),\n",
    "    answer\n",
    ")\n",
    "######################################################\n",
    "names = pd.DataFrame({'Имя':['Никола Тесла'], \n",
    "                   'Дата рождения':['10 июля 1856 г.'],\n",
    "                   'Дата смерти':  ['7 января 1857 г.']})\n",
    "answer = pd.DataFrame({'Имя':['Никола Тесла'], \n",
    "                       'Дата рождения':['10 июля 1856 г.'],\n",
    "                       'Дата смерти':  ['7 января 1857 г.'],\n",
    "                       'Полных лет':[0]})\n",
    "assert_frame_equal(\n",
    "    rus_feature(names),\n",
    "    answer\n",
    ")\n",
    "######################################################\n",
    "names = pd.DataFrame({'Имя':['Никола Тесла'], \n",
    "                   'Дата рождения':['1 января 2000 г.'],\n",
    "                   'Дата смерти':  ['31 декабря 2000 г.']})\n",
    "answer = pd.DataFrame({'Имя':['Никола Тесла'], \n",
    "                       'Дата рождения':['1 января 2000 г.'],\n",
    "                       'Дата смерти':  ['31 декабря 2000 г.'],\n",
    "                       'Полных лет':[0]})\n",
    "assert_frame_equal(\n",
    "    rus_feature(names),\n",
    "    answer\n",
    ")"
   ]
  },
  {
   "cell_type": "markdown",
   "metadata": {
    "pycharm": {
     "name": "#%% md\n"
    }
   },
   "source": [
    "# Характеристики"
   ]
  },
  {
   "cell_type": "markdown",
   "metadata": {
    "pycharm": {
     "name": "#%% md\n"
    }
   },
   "source": [
    "В этой задаче на вход подаются всем известные данные о погибших/выживших пассажирах на титанике. (Файл `titanik_train.csv` в [папке data](https://github.com/samstikhin/ml2021/tree/master/01-Analysis/data)). \n",
    "\n",
    "Верните среднее, медиану, максимальное и минимальное значение возраста **погибших** мужчин. Именно в данном порядке.\n",
    "\n",
    "### Sample 1\n",
    "#### Input:\n",
    "```python\n",
    "df = pd.read_csv('titanic_train.csv', index_col='PassengerId')\n",
    "```\n",
    "#### Output:\n",
    "```python\n",
    "return 42,42,42,42\n",
    "```"
   ]
  },
  {
   "cell_type": "markdown",
   "metadata": {
    "pycharm": {
     "name": "#%% md\n"
    }
   },
   "source": [
    "# TASK"
   ]
  },
  {
   "cell_type": "code",
   "execution_count": 45,
   "metadata": {
    "pycharm": {
     "name": "#%%\n"
    }
   },
   "outputs": [],
   "source": [
    "def men_stat(df: pd.DataFrame) -> (float, float, float, float):\n",
    "    df = df[(df['Survived']==0) & (df['Sex']=='male')]\n",
    "    ages = df['Age']\n",
    "    return (ages.mean(), ages.median(), ages.max(), ages.min())"
   ]
  },
  {
   "cell_type": "code",
   "execution_count": 49,
   "metadata": {},
   "outputs": [
    {
     "data": {
      "text/plain": [
       "(31.618055555555557, 29.0, 74.0, 1.0)"
      ]
     },
     "execution_count": 49,
     "metadata": {},
     "output_type": "execute_result"
    }
   ],
   "source": [
    "df = pd.read_csv('titanic_train.csv', index_col='PassengerId')\n",
    "men_stat(df)"
   ]
  },
  {
   "cell_type": "markdown",
   "metadata": {
    "pycharm": {
     "name": "#%% md\n"
    }
   },
   "source": [
    "# Сводная таблица"
   ]
  },
  {
   "cell_type": "markdown",
   "metadata": {
    "pycharm": {
     "name": "#%% md\n"
    }
   },
   "source": [
    "В этой задаче на вход подаются всем известные данные о погибших/выживших пассажирах на титанике. (Файл `titanik_train.csv` в [папке data](https://github.com/samstikhin/ml2021/tree/master/01-Analysis/data)). \n",
    "\n",
    "Сделать сводную таблицу по **медианному возрасту** для пола и класса. Для примера посмотрите сводную таблицу по сумме выживших, для пола и класса. \n",
    "\n",
    "| Sex        | Pclass  | Survived |\n",
    "|------------|---------|----------|\n",
    "| **female** | **1**   |      91  |\n",
    "|            | **2**   |      70  |\n",
    "|            | **3**   |      72  |\n",
    "| **male**   | **1**   |      45  |\n",
    "|            | **2**   |      17  |\n",
    "|            | **3**   |      47  |\n",
    "\n",
    "Обратите внимание, что первые 2 столбца - это не колонки, а `MultiIndex`.\n",
    "\n",
    "### Sample 1\n",
    "#### Input:\n",
    "```python\n",
    "df = pd.read_csv('titanic_train.csv', index_col='PassengerId')\n",
    "```"
   ]
  },
  {
   "cell_type": "markdown",
   "metadata": {
    "pycharm": {
     "name": "#%% md\n"
    }
   },
   "source": [
    "# TASK"
   ]
  },
  {
   "cell_type": "code",
   "execution_count": 46,
   "metadata": {
    "pycharm": {
     "name": "#%%\n"
    }
   },
   "outputs": [],
   "source": [
    "def age_stat(df: pd.DataFrame) -> pd.DataFrame:\n",
    "    return df.groupby(by=['Sex', 'Pclass']).median()[['Age']]"
   ]
  },
  {
   "cell_type": "code",
   "execution_count": 48,
   "metadata": {},
   "outputs": [
    {
     "data": {
      "text/html": [
       "<div>\n",
       "<style scoped>\n",
       "    .dataframe tbody tr th:only-of-type {\n",
       "        vertical-align: middle;\n",
       "    }\n",
       "\n",
       "    .dataframe tbody tr th {\n",
       "        vertical-align: top;\n",
       "    }\n",
       "\n",
       "    .dataframe thead th {\n",
       "        text-align: right;\n",
       "    }\n",
       "</style>\n",
       "<table border=\"1\" class=\"dataframe\">\n",
       "  <thead>\n",
       "    <tr style=\"text-align: right;\">\n",
       "      <th></th>\n",
       "      <th></th>\n",
       "      <th>Age</th>\n",
       "    </tr>\n",
       "    <tr>\n",
       "      <th>Sex</th>\n",
       "      <th>Pclass</th>\n",
       "      <th></th>\n",
       "    </tr>\n",
       "  </thead>\n",
       "  <tbody>\n",
       "    <tr>\n",
       "      <th rowspan=\"3\" valign=\"top\">female</th>\n",
       "      <th>1</th>\n",
       "      <td>35.0</td>\n",
       "    </tr>\n",
       "    <tr>\n",
       "      <th>2</th>\n",
       "      <td>28.0</td>\n",
       "    </tr>\n",
       "    <tr>\n",
       "      <th>3</th>\n",
       "      <td>21.5</td>\n",
       "    </tr>\n",
       "    <tr>\n",
       "      <th rowspan=\"3\" valign=\"top\">male</th>\n",
       "      <th>1</th>\n",
       "      <td>40.0</td>\n",
       "    </tr>\n",
       "    <tr>\n",
       "      <th>2</th>\n",
       "      <td>30.0</td>\n",
       "    </tr>\n",
       "    <tr>\n",
       "      <th>3</th>\n",
       "      <td>25.0</td>\n",
       "    </tr>\n",
       "  </tbody>\n",
       "</table>\n",
       "</div>"
      ],
      "text/plain": [
       "                Age\n",
       "Sex    Pclass      \n",
       "female 1       35.0\n",
       "       2       28.0\n",
       "       3       21.5\n",
       "male   1       40.0\n",
       "       2       30.0\n",
       "       3       25.0"
      ]
     },
     "execution_count": 48,
     "metadata": {},
     "output_type": "execute_result"
    }
   ],
   "source": [
    "df = pd.read_csv('titanic_train.csv', index_col='PassengerId')\n",
    "age_stat(df)"
   ]
  },
  {
   "cell_type": "markdown",
   "metadata": {
    "pycharm": {
     "name": "#%% md\n"
    }
   },
   "source": [
    "# Популярные девушки"
   ]
  },
  {
   "cell_type": "markdown",
   "metadata": {
    "pycharm": {
     "name": "#%% md\n"
    }
   },
   "source": [
    "В этой задаче на вход подаются всем известные данные о погибших/выживших пассажирах на титанике. (Файл `titanik_train.csv` в [папке data](https://github.com/samstikhin/ml2021/tree/master/01-Analysis/data)). \n",
    "\n",
    "Выведите список имен незамужних женщин(`Miss`) отсортированный по популярности. \n",
    "\n",
    "* В полном имени девушек **имя** - это **первое слово без скобок** после `Miss`.\n",
    "* Остальные строки не рассматриваем.\n",
    "* Девушки с одинаковой популярностью сортируются по имени в алфавитном порядке.\n",
    "\n",
    "**Слово/имя** - подстрока без пробелов.\n",
    "**Популярность** - количество таких имен в таблице.\n",
    "\n",
    "### Sample 1\n",
    "#### Input:\n",
    "```python\n",
    "data = pd.read_csv('titanic_train.csv', index_col='PassengerId')\n",
    "```\n",
    "#### Output:\n",
    "Вот начало данного списка. Заметьте, **названия колонок должны совпадать** \n",
    "\n",
    "|  | Name | Popularity |\n",
    "|--|----|--------|\n",
    "|0 |Anna |9|\n",
    "|1 |Mary |9\n",
    "|2 |Margaret|6\n",
    "|3 |Elizabeth|5\n",
    "|4 |Alice |4\n",
    "|5 |Bertha |4\n",
    "|6 |Ellen |4\n",
    "|7 |Helen |4\n"
   ]
  },
  {
   "cell_type": "markdown",
   "metadata": {
    "pycharm": {
     "name": "#%% md\n"
    }
   },
   "source": [
    "# TASK"
   ]
  },
  {
   "cell_type": "code",
   "execution_count": 58,
   "metadata": {
    "pycharm": {
     "name": "#%%\n"
    }
   },
   "outputs": [],
   "source": [
    "import re\n",
    "\n",
    "def get_name(full_name):\n",
    "    return re.search(r'Miss\\. (\\w*)', full_name).group(1)\n",
    "\n",
    "def fename_stat(df: pd.DataFrame) -> pd.DataFrame:\n",
    "    df = df[df['Name'].str.contains('Miss')]\n",
    "    df['Name'] = df['Name'].apply(get_name)\n",
    "\n",
    "    df = df.reset_index()[['Name']]\n",
    "    df['Popularity'] = df['Name'].map(df['Name'].value_counts())\n",
    "\n",
    "    df.drop_duplicates(subset='Name', keep=\"last\", inplace=True)\n",
    "    df.sort_values(['Popularity', 'Name'], ascending=[False, True], inplace=True)\n",
    "\n",
    "    return df"
   ]
  },
  {
   "cell_type": "code",
   "execution_count": 59,
   "metadata": {},
   "outputs": [
    {
     "name": "stderr",
     "output_type": "stream",
     "text": [
      "C:\\Users\\Никита\\AppData\\Local\\Temp\\ipykernel_12308\\2839806570.py:8: SettingWithCopyWarning: \n",
      "A value is trying to be set on a copy of a slice from a DataFrame.\n",
      "Try using .loc[row_indexer,col_indexer] = value instead\n",
      "\n",
      "See the caveats in the documentation: https://pandas.pydata.org/pandas-docs/stable/user_guide/indexing.html#returning-a-view-versus-a-copy\n",
      "  df['Name'] = df['Name'].apply(get_name)\n"
     ]
    },
    {
     "data": {
      "text/html": [
       "<div>\n",
       "<style scoped>\n",
       "    .dataframe tbody tr th:only-of-type {\n",
       "        vertical-align: middle;\n",
       "    }\n",
       "\n",
       "    .dataframe tbody tr th {\n",
       "        vertical-align: top;\n",
       "    }\n",
       "\n",
       "    .dataframe thead th {\n",
       "        text-align: right;\n",
       "    }\n",
       "</style>\n",
       "<table border=\"1\" class=\"dataframe\">\n",
       "  <thead>\n",
       "    <tr style=\"text-align: right;\">\n",
       "      <th></th>\n",
       "      <th>Name</th>\n",
       "      <th>Popularity</th>\n",
       "    </tr>\n",
       "  </thead>\n",
       "  <tbody>\n",
       "    <tr>\n",
       "      <th>167</th>\n",
       "      <td>Anna</td>\n",
       "      <td>9</td>\n",
       "    </tr>\n",
       "    <tr>\n",
       "      <th>175</th>\n",
       "      <td>Mary</td>\n",
       "      <td>9</td>\n",
       "    </tr>\n",
       "    <tr>\n",
       "      <th>180</th>\n",
       "      <td>Margaret</td>\n",
       "      <td>6</td>\n",
       "    </tr>\n",
       "    <tr>\n",
       "      <th>135</th>\n",
       "      <td>Elizabeth</td>\n",
       "      <td>5</td>\n",
       "    </tr>\n",
       "    <tr>\n",
       "      <th>154</th>\n",
       "      <td>Alice</td>\n",
       "      <td>4</td>\n",
       "    </tr>\n",
       "    <tr>\n",
       "      <th>...</th>\n",
       "      <td>...</td>\n",
       "      <td>...</td>\n",
       "    </tr>\n",
       "    <tr>\n",
       "      <th>53</th>\n",
       "      <td>Thamine</td>\n",
       "      <td>1</td>\n",
       "    </tr>\n",
       "    <tr>\n",
       "      <th>5</th>\n",
       "      <td>Torborg</td>\n",
       "      <td>1</td>\n",
       "    </tr>\n",
       "    <tr>\n",
       "      <th>127</th>\n",
       "      <td>Velin</td>\n",
       "      <td>1</td>\n",
       "    </tr>\n",
       "    <tr>\n",
       "      <th>165</th>\n",
       "      <td>Virginia</td>\n",
       "      <td>1</td>\n",
       "    </tr>\n",
       "    <tr>\n",
       "      <th>171</th>\n",
       "      <td>Wendla</td>\n",
       "      <td>1</td>\n",
       "    </tr>\n",
       "  </tbody>\n",
       "</table>\n",
       "<p>121 rows × 2 columns</p>\n",
       "</div>"
      ],
      "text/plain": [
       "          Name  Popularity\n",
       "167       Anna           9\n",
       "175       Mary           9\n",
       "180   Margaret           6\n",
       "135  Elizabeth           5\n",
       "154      Alice           4\n",
       "..         ...         ...\n",
       "53     Thamine           1\n",
       "5      Torborg           1\n",
       "127      Velin           1\n",
       "165   Virginia           1\n",
       "171     Wendla           1\n",
       "\n",
       "[121 rows x 2 columns]"
      ]
     },
     "execution_count": 59,
     "metadata": {},
     "output_type": "execute_result"
    }
   ],
   "source": [
    "df = pd.read_csv('titanic_train.csv', index_col='PassengerId')\n",
    "fename_stat(df)"
   ]
  }
 ],
 "metadata": {
  "kernelspec": {
   "display_name": "Python 3 (ipykernel)",
   "language": "python",
   "name": "python3"
  },
  "language_info": {
   "codemirror_mode": {
    "name": "ipython",
    "version": 3
   },
   "file_extension": ".py",
   "mimetype": "text/x-python",
   "name": "python",
   "nbconvert_exporter": "python",
   "pygments_lexer": "ipython3",
   "version": "3.9.13"
  }
 },
 "nbformat": 4,
 "nbformat_minor": 4
}
