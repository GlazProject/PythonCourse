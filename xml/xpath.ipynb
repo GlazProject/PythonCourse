{
 "cells": [
  {
   "cell_type": "markdown",
   "metadata": {
    "pycharm": {
     "name": "#%% md\n"
    }
   },
   "source": [
    "\n",
    "# Синтаксический разбор XML\n",
    "по материалам https://diveintopython3.net/xml.html на основе файла movies.xml"
   ]
  },
  {
   "cell_type": "markdown",
   "source": [
    "# Выполнил Глазунов Никита (МЕН-212201)"
   ],
   "metadata": {
    "collapsed": false,
    "pycharm": {
     "name": "#%% md\n"
    }
   }
  },
  {
   "cell_type": "code",
   "execution_count": 1,
   "metadata": {
    "pycharm": {
     "name": "#%%\n"
    }
   },
   "outputs": [
    {
     "name": "stdout",
     "output_type": "stream",
     "text": [
      "root.tag = 'Movies'\n",
      "<Element Movies at 0x1eb20ced780>\n"
     ]
    }
   ],
   "source": [
    "from lxml import etree as ET  \n",
    "tree = ET.parse('movies.xml')  \n",
    "root = tree.getroot() \n",
    "print(f'{root.tag = }') # имя корневого тега\n",
    "print(root) # строковое представление корневого элемента содержит информацию об имени элемента и адресе в памяти"
   ]
  },
  {
   "cell_type": "markdown",
   "metadata": {
    "pycharm": {
     "name": "#%% md\n"
    }
   },
   "source": [
    "Далее нужно вместо print(\"...\") написать ваш коменатарий, что делает команада, например для следущей яцейки подойдет\n",
    "\n",
    "print(\"Список всех тегов с именем Movie:\")\n",
    "\n",
    "root.findall('Movie')"
   ]
  },
  {
   "cell_type": "code",
   "execution_count": 2,
   "metadata": {
    "pycharm": {
     "name": "#%%\n"
    }
   },
   "outputs": [
    {
     "name": "stdout",
     "output_type": "stream",
     "text": [
      "Печатает список всех тегов с именем Movie\n"
     ]
    },
    {
     "data": {
      "text/plain": "[<Element Movie at 0x1eb20da21c0>,\n <Element Movie at 0x1eb209b4a00>,\n <Element Movie at 0x1eb20dba200>,\n <Element Movie at 0x1eb20dba2c0>,\n <Element Movie at 0x1eb20dba3c0>,\n <Element Movie at 0x1eb20dba480>,\n <Element Movie at 0x1eb20dba040>,\n <Element Movie at 0x1eb20dba100>,\n <Element Movie at 0x1eb20dba240>,\n <Element Movie at 0x1eb20dba1c0>,\n <Element Movie at 0x1eb20ca9500>,\n <Element Movie at 0x1eb20dba4c0>]"
     },
     "execution_count": 2,
     "metadata": {},
     "output_type": "execute_result"
    }
   ],
   "source": [
    "print(\"Печатает список всех тегов с именем Movie\")\n",
    "root.findall('Movie')"
   ]
  },
  {
   "cell_type": "code",
   "execution_count": 4,
   "metadata": {
    "tags": [],
    "pycharm": {
     "name": "#%%\n"
    }
   },
   "outputs": [
    {
     "name": "stdout",
     "output_type": "stream",
     "text": [
      "Печатает список всех тегов с именем Movie\n"
     ]
    },
    {
     "data": {
      "text/plain": "[<Element Movie at 0x1eb20da21c0>,\n <Element Movie at 0x1eb209b4a00>,\n <Element Movie at 0x1eb20dba200>,\n <Element Movie at 0x1eb20dba2c0>,\n <Element Movie at 0x1eb20dba3c0>,\n <Element Movie at 0x1eb20dba480>,\n <Element Movie at 0x1eb20dba040>,\n <Element Movie at 0x1eb20dba100>,\n <Element Movie at 0x1eb20dba240>,\n <Element Movie at 0x1eb20dba1c0>,\n <Element Movie at 0x1eb20ca9500>,\n <Element Movie at 0x1eb20dba4c0>]"
     },
     "execution_count": 4,
     "metadata": {},
     "output_type": "execute_result"
    }
   ],
   "source": [
    "entries_movie = tree.xpath(\"/Movies/Movie\")\n",
    "print(\"Печатает список всех тегов с именем Movie\")\n",
    "entries_movie"
   ]
  },
  {
   "cell_type": "code",
   "execution_count": 5,
   "metadata": {
    "pycharm": {
     "name": "#%%\n"
    }
   },
   "outputs": [
    {
     "name": "stdout",
     "output_type": "stream",
     "text": [
      "...\n"
     ]
    },
    {
     "data": {
      "text/plain": "[<Element Movie at 0x1eb20da21c0>,\n <Element Movie at 0x1eb209b4a00>,\n <Element Movie at 0x1eb20dba200>,\n <Element Movie at 0x1eb20dba2c0>,\n <Element Movie at 0x1eb20dba3c0>,\n <Element Movie at 0x1eb20dba480>,\n <Element Movie at 0x1eb20dba040>,\n <Element Movie at 0x1eb20dba100>,\n <Element Movie at 0x1eb20dba240>,\n <Element Movie at 0x1eb20dba1c0>,\n <Element Movie at 0x1eb20ca9500>,\n <Element Movie at 0x1eb20dba4c0>]"
     },
     "execution_count": 5,
     "metadata": {},
     "output_type": "execute_result"
    }
   ],
   "source": [
    "entries_movie = tree.xpath(\"//Movie\")\n",
    "print(\"Печатает список всех тегов с именем Movie\")\n",
    "entries_movie"
   ]
  },
  {
   "cell_type": "code",
   "execution_count": 6,
   "metadata": {
    "pycharm": {
     "name": "#%%\n"
    }
   },
   "outputs": [
    {
     "name": "stdout",
     "output_type": "stream",
     "text": [
      "Печатает список всех тегов с именем Title\n"
     ]
    },
    {
     "data": {
      "text/plain": "[<Element Title at 0x1eb20db1900>,\n <Element Title at 0x1eb20db1b40>,\n <Element Title at 0x1eb20c6c600>,\n <Element Title at 0x1eb20c5ef00>,\n <Element Title at 0x1eb20c5e100>,\n <Element Title at 0x1eb20dae380>,\n <Element Title at 0x1eb20dae140>,\n <Element Title at 0x1eb20dae3c0>,\n <Element Title at 0x1eb20dae580>,\n <Element Title at 0x1eb20dae480>,\n <Element Title at 0x1eb20dae4c0>,\n <Element Title at 0x1eb20dae400>]"
     },
     "execution_count": 6,
     "metadata": {},
     "output_type": "execute_result"
    }
   ],
   "source": [
    "entries_title = tree.xpath(\"//Title\")\n",
    "print(\"Печатает список всех тегов с именем Title\")\n",
    "entries_title"
   ]
  },
  {
   "cell_type": "code",
   "execution_count": 7,
   "metadata": {
    "pycharm": {
     "name": "#%%\n"
    }
   },
   "outputs": [
    {
     "name": "stdout",
     "output_type": "stream",
     "text": [
      "Печатает текст из первого тега Title\n"
     ]
    },
    {
     "data": {
      "text/plain": "'The Godfather'"
     },
     "execution_count": 7,
     "metadata": {},
     "output_type": "execute_result"
    }
   ],
   "source": [
    "print(\"Печатает текст из первого тега Title\")\n",
    "entries_title[0].text"
   ]
  },
  {
   "cell_type": "code",
   "execution_count": 8,
   "metadata": {
    "pycharm": {
     "name": "#%%\n"
    }
   },
   "outputs": [
    {
     "name": "stdout",
     "output_type": "stream",
     "text": [
      "Печатает тег из первого тега Title\n"
     ]
    },
    {
     "data": {
      "text/plain": "'Title'"
     },
     "execution_count": 8,
     "metadata": {},
     "output_type": "execute_result"
    }
   ],
   "source": [
    "print(\"Печатает имя тега из первого тега Title\")\n",
    "entries_title[0].tag"
   ]
  },
  {
   "cell_type": "code",
   "execution_count": 10,
   "metadata": {
    "pycharm": {
     "name": "#%%\n"
    }
   },
   "outputs": [
    {
     "name": "stdout",
     "output_type": "stream",
     "text": [
      "Печатает атрбут первого тега Title\n"
     ]
    },
    {
     "data": {
      "text/plain": "{'runtime': '142'}"
     },
     "execution_count": 10,
     "metadata": {},
     "output_type": "execute_result"
    }
   ],
   "source": [
    "print(\"Печатает атрбут первого тега Title\")\n",
    "entries_title[1].attrib"
   ]
  },
  {
   "cell_type": "code",
   "execution_count": 12,
   "metadata": {
    "pycharm": {
     "name": "#%%\n"
    }
   },
   "outputs": [
    {
     "name": "stdout",
     "output_type": "stream",
     "text": [
      "Печатает значения атрибутов первого тега Titles\n"
     ]
    },
    {
     "data": {
      "text/plain": "['142']"
     },
     "execution_count": 12,
     "metadata": {},
     "output_type": "execute_result"
    }
   ],
   "source": [
    "print(\"Печатает значения атрибутов первого тега Titles\")\n",
    "entries_title[1].values()"
   ]
  },
  {
   "cell_type": "code",
   "execution_count": 16,
   "metadata": {
    "pycharm": {
     "name": "#%%\n"
    }
   },
   "outputs": [
    {
     "name": "stdout",
     "output_type": "stream",
     "text": [
      "Печатает все названия заголовков, которые содержат атрибут runtime\n"
     ]
    },
    {
     "data": {
      "text/plain": "['The Godfather',\n 'The Shwashank Redemption',\n 'Sholay',\n 'Guide',\n 'Sarfarosh',\n 'Lagaan',\n 'A Beautiful Mind',\n 'Purab aur Paschim',\n 'The Notebook']"
     },
     "execution_count": 16,
     "metadata": {},
     "output_type": "execute_result"
    }
   ],
   "source": [
    "entries_title_runtime = tree.xpath(\"//Title[@runtime]/text()\")\n",
    "print(\"Печатает все названия заголовков, которые содержат атрибут runtime\")\n",
    "entries_title_runtime"
   ]
  },
  {
   "cell_type": "code",
   "execution_count": 17,
   "metadata": {
    "pycharm": {
     "name": "#%%\n"
    }
   },
   "outputs": [
    {
     "name": "stdout",
     "output_type": "stream",
     "text": [
      "Печатает все тесты заголовков, у которых атрибут runtime равен 142\n"
     ]
    },
    {
     "data": {
      "text/plain": "['The Shwashank Redemption']"
     },
     "execution_count": 17,
     "metadata": {},
     "output_type": "execute_result"
    }
   ],
   "source": [
    "entries_title_runtime = tree.xpath(\"//Title[@runtime='142']/text()\")\n",
    "print(\"Печатает все тесты заголовков, у которых атрибут runtime равен 142\")\n",
    "entries_title_runtime"
   ]
  },
  {
   "cell_type": "code",
   "execution_count": 18,
   "metadata": {
    "pycharm": {
     "name": "#%%\n"
    }
   },
   "outputs": [
    {
     "name": "stdout",
     "output_type": "stream",
     "text": [
      "[<Element Movie at 0x1eb20da21c0>, <Element Title at 0x1eb20db1900>, <Element Genre at 0x1eb20da4b00>, <Element Director at 0x1eb20da4300>, <Element Name at 0x1eb20da4480>, <Element First at 0x1eb20da4f80>, <Element Last at 0x1eb20da4f40>, <Element Studio at 0x1eb20da4080>, <Element Year at 0x1eb20d81540>]\n",
      " \n",
      "[<Element Movie at 0x1eb209b4a00>, <Element Title at 0x1eb20db1b40>, <Element Genre at 0x1eb20d81580>, <Element Director at 0x1eb20d81740>, <Element Name at 0x1eb20d816c0>, <Element First at 0x1eb20d81780>, <Element Last at 0x1eb20d81480>, <Element Studio at 0x1eb20d81500>, <Element Year at 0x1eb20d81600>]\n",
      " \n",
      "[<Element Movie at 0x1eb20dba200>, <Element Title at 0x1eb20c6c600>, <Element Genre at 0x1eb20d81340>, <Element Director at 0x1eb20d81540>, <Element Name at 0x1eb20d81800>, <Element First at 0x1eb20d81640>, <Element Last at 0x1eb20d817c0>, <Element Studio at 0x1eb20d814c0>, <Element Year at 0x1eb20d81840>]\n",
      " \n",
      "[<Element Movie at 0x1eb20dba2c0>, <Element Title at 0x1eb20c5ef00>, <Element Genre at 0x1eb20d81780>, <Element Director at 0x1eb20d81480>, <Element Name at 0x1eb20d81500>, <Element First at 0x1eb20d81600>, <Element Last at 0x1eb20d812c0>, <Element Studio at 0x1eb20d81280>, <Element Year at 0x1eb20d81700>]\n",
      " \n",
      "[<Element Movie at 0x1eb20dba3c0>, <Element Title at 0x1eb20c5e100>, <Element Genre at 0x1eb20d814c0>, <Element Director at 0x1eb20d81580>, <Element Name at 0x1eb20d81840>, <Element First at 0x1eb20d81740>, <Element Last at 0x1eb20d81680>, <Element Studio at 0x1eb20d816c0>, <Element Year at 0x1eb20d81880>]\n",
      " \n",
      "[<Element Movie at 0x1eb20dba480>, <Element Title at 0x1eb20dae380>, <Element Genre at 0x1eb20d81280>, <Element Director at 0x1eb20d81540>, <Element Name at 0x1eb20d81700>, <Element First at 0x1eb20d81800>, <Element Last at 0x1eb20d81640>, <Element Studio at 0x1eb20d817c0>, <Element Year at 0x1eb20d818c0>]\n",
      " \n",
      "[<Element Movie at 0x1eb20dba040>, <Element Title at 0x1eb20dae140>, <Element Genre at 0x1eb20d816c0>, <Element Director at 0x1eb20d81500>, <Element Name at 0x1eb20d81880>, <Element First at 0x1eb20d81600>, <Element Last at 0x1eb20d812c0>, <Element Studio at 0x1eb20d81340>, <Element Year at 0x1eb20d81900>]\n",
      " \n",
      "[<Element Movie at 0x1eb20dba100>, <Element Title at 0x1eb20dae3c0>, <Element Genre at 0x1eb20d817c0>, <Element Director at 0x1eb20d81740>, <Element Name at 0x1eb20d818c0>, <Element First at 0x1eb20d81780>, <Element Last at 0x1eb20d81680>, <Element Studio at 0x1eb20d81480>, <Element Year at 0x1eb20d81940>]\n",
      " \n",
      "[<Element Movie at 0x1eb20dba240>, <Element Title at 0x1eb20dae580>, <Element Genre at 0x1eb20d81340>, <Element Director at 0x1eb20d81800>, <Element Name at 0x1eb20d81900>, <Element First at 0x1eb20d81580>, <Element Last at 0x1eb20d81640>, <Element Studio at 0x1eb20d81840>, <Element Year at 0x1eb20d81980>]\n",
      " \n",
      "[<Element Movie at 0x1eb20dba1c0>, <Element Title at 0x1eb20dae480>, <Element Genre at 0x1eb20d81480>, <Element Director at 0x1eb20d81600>, <Element Name at 0x1eb20d81940>, <Element First at 0x1eb20d81700>, <Element Last at 0x1eb20d812c0>, <Element Studio at 0x1eb20d814c0>, <Element Year at 0x1eb20d819c0>]\n",
      " \n",
      "[<Element Movie at 0x1eb20ca9500>, <Element Title at 0x1eb20dae4c0>, <Element Genre at 0x1eb20d81840>, <Element Director at 0x1eb20d81780>, <Element Name at 0x1eb20d81980>, <Element First at 0x1eb20d81880>, <Element Last at 0x1eb20d81680>, <Element Studio at 0x1eb20d81540>, <Element Year at 0x1eb20d81a00>]\n",
      " \n",
      "[<Element Movie at 0x1eb20dba4c0>, <Element Title at 0x1eb20dae400>, <Element Genre at 0x1eb20d814c0>, <Element Director at 0x1eb20d81580>, <Element Name at 0x1eb20d819c0>, <Element First at 0x1eb20d818c0>, <Element Last at 0x1eb20d81640>, <Element Studio at 0x1eb20d81280>, <Element Year at 0x1eb20d81a40>]\n",
      " \n"
     ]
    }
   ],
   "source": [
    "for elem in entries_movie:\n",
    "    all_descendants = list(elem.iter())\n",
    "    print(all_descendants)\n",
    "    print(\" \")"
   ]
  },
  {
   "cell_type": "code",
   "execution_count": null,
   "metadata": {
    "pycharm": {
     "name": "#%%\n"
    }
   },
   "outputs": [],
   "source": [
    "# Задание 1: вывести на экран словарь, ключи которого - названия фильмов, значения - содержимое \"runtime\""
   ]
  },
  {
   "cell_type": "code",
   "execution_count": 29,
   "outputs": [
    {
     "name": "stdout",
     "output_type": "stream",
     "text": [
      "{'The Godfather': '177', 'The Shwashank Redemption': '142', 'Sholay': '204', 'Guide': '183', 'Sarfarosh': '174', 'Lagaan': '224', 'A Beautiful Mind': '135', 'Purab aur Paschim': '170', 'The Notebook': '124'}\n"
     ]
    }
   ],
   "source": [
    "entries_titles_with_runtime = tree.xpath(\"//Title[@runtime]\")\n",
    "movies = {}\n",
    "for title in entries_titles_with_runtime:\n",
    "    movies[title.text] = title.attrib['runtime']\n",
    "print(movies)"
   ],
   "metadata": {
    "collapsed": false,
    "pycharm": {
     "name": "#%%\n"
    }
   }
  },
  {
   "cell_type": "code",
   "execution_count": null,
   "metadata": {
    "pycharm": {
     "name": "#%%\n"
    }
   },
   "outputs": [],
   "source": [
    "# Задание 2: трансформировать содержимое movies.xml в формат json\n",
    "# Документация для стандартного модуля json: https://docs.python.org/3/library/json.html \n",
    "# Неофициальный перевод с примерами записи в json https://python-scripts.com/json?ysclid=lac4k0btwt466481369"
   ]
  },
  {
   "cell_type": "code",
   "execution_count": 48,
   "outputs": [
    {
     "name": "stdout",
     "output_type": "stream",
     "text": [
      "[\n",
      "    {\n",
      "        \"rating\": \"R\",\n",
      "        \"runtime\": \"177\",\n",
      "        \"title\": \"The Godfather\",\n",
      "        \"genre\": \" Crime Drama \",\n",
      "        \"director\": {\n",
      "            \"name\": {\n",
      "                \"first\": \"Francis Ford \",\n",
      "                \"last\": \"Coppola \"\n",
      "            }\n",
      "        },\n",
      "        \"studio\": \"Paramount Pictures \",\n",
      "        \"year\": \"1972 \"\n",
      "    },\n",
      "    {\n",
      "        \"rating\": \"R\",\n",
      "        \"title\": \"The Shwashank Redemption\",\n",
      "        \"runtime\": \"142\",\n",
      "        \"genre\": \" Drama\",\n",
      "        \"director\": {\n",
      "            \"highratedmovie\": \"The Mist\",\n",
      "            \"name\": {\n",
      "                \"first\": \" Frank   \",\n",
      "                \"last\": \" Darabont\"\n",
      "            }\n",
      "        },\n",
      "        \"studio\": \"Columbia Pictures \",\n",
      "        \"year\": \" 1994\"\n",
      "    },\n",
      "    {\n",
      "        \"rating\": \"PG\",\n",
      "        \"title\": \"Sholay\",\n",
      "        \"runtime\": \"204\",\n",
      "        \"genre\": \" Action-Advneture\",\n",
      "        \"director\": {\n",
      "            \"highratedmovie\": \"Shaan\",\n",
      "            \"name\": {\n",
      "                \"first\": \" Ramesh  \",\n",
      "                \"last\": \" Sippy\"\n",
      "            }\n",
      "        },\n",
      "        \"studio\": \"United Producers Sippy Films \",\n",
      "        \"year\": \" 1975\"\n",
      "    },\n",
      "    {\n",
      "        \"rating\": \"G\",\n",
      "        \"title\": \"Swades\",\n",
      "        \"genre\": \" Drama\",\n",
      "        \"director\": {\n",
      "            \"highratedmovie\": \"Jodhaa Akbar\",\n",
      "            \"name\": {\n",
      "                \"first\": \" Ashutosh  \",\n",
      "                \"last\": \" Gowariker\"\n",
      "            }\n",
      "        },\n",
      "        \"studio\": \"Ashutosh Gowariker Productions\",\n",
      "        \"year\": \" 2004\"\n",
      "    },\n",
      "    {\n",
      "        \"rating\": \"G\",\n",
      "        \"title\": \"Guide\",\n",
      "        \"runtime\": \"183\",\n",
      "        \"genre\": \" Romantic Drama\",\n",
      "        \"director\": {\n",
      "            \"highratedmovie\": \"Johny Mera Naam\",\n",
      "            \"name\": {\n",
      "                \"first\": \" Vijay  \",\n",
      "                \"last\": \" Anand\"\n",
      "            }\n",
      "        },\n",
      "        \"studio\": \"Navketan Films\",\n",
      "        \"year\": \" 1965\"\n",
      "    },\n",
      "    {\n",
      "        \"rating\": \"G\",\n",
      "        \"title\": \"Guru\",\n",
      "        \"genre\": \" Drama\",\n",
      "        \"director\": {\n",
      "            \"highratedmovie\": \"Roja\",\n",
      "            \"name\": {\n",
      "                \"first\": \" Mani  \",\n",
      "                \"last\": \" Ratnam\"\n",
      "            }\n",
      "        },\n",
      "        \"studio\": \"Madras Talkies\",\n",
      "        \"year\": \" 2007\"\n",
      "    },\n",
      "    {\n",
      "        \"rating\": \"PG\",\n",
      "        \"title\": \"Sarfarosh\",\n",
      "        \"runtime\": \"174\",\n",
      "        \"genre\": \"Action Drama\",\n",
      "        \"director\": {\n",
      "            \"name\": {\n",
      "                \"first\": \" John Mathew  \",\n",
      "                \"last\": \" Matthan\"\n",
      "            }\n",
      "        },\n",
      "        \"studio\": \"Cinematt Pictures\",\n",
      "        \"year\": \" 1999\"\n",
      "    },\n",
      "    {\n",
      "        \"rating\": \"G\",\n",
      "        \"title\": \"Lagaan\",\n",
      "        \"runtime\": \"224\",\n",
      "        \"genre\": \"Epic Sports-Drama\",\n",
      "        \"director\": {\n",
      "            \"name\": {\n",
      "                \"first\": \" Ashutosh  \",\n",
      "                \"last\": \" Gowariker\"\n",
      "            }\n",
      "        },\n",
      "        \"studio\": \"Aamir Khan Productions\",\n",
      "        \"year\": \" 2001\"\n",
      "    },\n",
      "    {\n",
      "        \"rating\": \"PG-13\",\n",
      "        \"title\": \"A Beautiful Mind\",\n",
      "        \"runtime\": \"135\",\n",
      "        \"genre\": \"Biographical Drama\",\n",
      "        \"director\": {\n",
      "            \"highratedmovie\": \"The Da Vinci Code\",\n",
      "            \"name\": {\n",
      "                \"first\": \" Ron  \",\n",
      "                \"last\": \" Howard\"\n",
      "            }\n",
      "        },\n",
      "        \"studio\": \"Imagine Entertainment\",\n",
      "        \"year\": \" 2001\"\n",
      "    },\n",
      "    {\n",
      "        \"rating\": \"PG\",\n",
      "        \"title\": \"Ship of Theseus\",\n",
      "        \"genre\": \"Indian Drama\",\n",
      "        \"director\": {\n",
      "            \"name\": {\n",
      "                \"first\": \" Anand  \",\n",
      "                \"last\": \" Gandhi\"\n",
      "            }\n",
      "        },\n",
      "        \"studio\": \"Recyclewala Films\",\n",
      "        \"year\": \" 2012\"\n",
      "    },\n",
      "    {\n",
      "        \"rating\": \"PG-13\",\n",
      "        \"title\": \"Purab aur Paschim\",\n",
      "        \"runtime\": \"170\",\n",
      "        \"genre\": \"Patriotic\",\n",
      "        \"director\": {\n",
      "            \"name\": {\n",
      "                \"first\": \" Manoj  \",\n",
      "                \"last\": \" Kumar\"\n",
      "            }\n",
      "        },\n",
      "        \"studio\": \"Vishal Inernational Productions\",\n",
      "        \"year\": \" 1970\"\n",
      "    },\n",
      "    {\n",
      "        \"rating\": \"PG-13\",\n",
      "        \"title\": \"The Notebook\",\n",
      "        \"runtime\": \"124\",\n",
      "        \"genre\": \"Romantic Drama\",\n",
      "        \"director\": {\n",
      "            \"name\": {\n",
      "                \"first\": \" Nick  \",\n",
      "                \"last\": \" Cassavetes\"\n",
      "            }\n",
      "        },\n",
      "        \"studio\": \"Avery Pix\",\n",
      "        \"year\": \" 2004\"\n",
      "    }\n",
      "]\n"
     ]
    }
   ],
   "source": [
    "import json\n",
    "entries_all_movies = tree.xpath(\"//Movie\")\n",
    "all_movies = []\n",
    "for movie in entries_all_movies:\n",
    "    mov = {}\n",
    "\n",
    "    for k, v in movie.attrib.items():\n",
    "        mov[k] = v\n",
    "\n",
    "    title = movie.findall('Title')[0]\n",
    "    mov['title'] = title.text\n",
    "    for k, v in title.attrib.items():\n",
    "        mov[k] = v\n",
    "\n",
    "    mov['genre'] = movie.findall('Genre')[0].text\n",
    "\n",
    "    director = {}\n",
    "    director_name_tag = movie.findall('Director')[0].findall('Name')[0]\n",
    "    for k, v in director_name_tag.attrib.items():\n",
    "        director[k] = v\n",
    "    name = {\n",
    "        'first': director_name_tag.findall('First')[0].text,\n",
    "        'last': director_name_tag.findall('Last')[0].text\n",
    "    }\n",
    "    director['name'] = name\n",
    "    mov['director'] = director\n",
    "\n",
    "    mov['studio'] = movie.findall('Studio')[0].text\n",
    "    mov['year'] = movie.findall('Year')[0].text\n",
    "    all_movies.append(mov)\n",
    "\n",
    "json_format_str = json.dumps(all_movies, ensure_ascii=False, indent=4)\n",
    "print(json_format_str)"
   ],
   "metadata": {
    "collapsed": false,
    "pycharm": {
     "name": "#%%\n"
    }
   }
  },
  {
   "cell_type": "code",
   "execution_count": null,
   "outputs": [],
   "source": [],
   "metadata": {
    "collapsed": false,
    "pycharm": {
     "name": "#%%\n"
    }
   }
  }
 ],
 "metadata": {
  "kernelspec": {
   "display_name": "Python 3.9.9 64-bit",
   "language": "python",
   "name": "python3"
  },
  "language_info": {
   "codemirror_mode": {
    "name": "ipython",
    "version": 3
   },
   "file_extension": ".py",
   "mimetype": "text/x-python",
   "name": "python",
   "nbconvert_exporter": "python",
   "pygments_lexer": "ipython3",
   "version": "3.9.9"
  },
  "orig_nbformat": 2,
  "vscode": {
   "interpreter": {
    "hash": "7a792fcb311f9eb9f3c1b942a8c87ada8484712b89b670347c16a1088e0a1f69"
   }
  }
 },
 "nbformat": 4,
 "nbformat_minor": 2
}